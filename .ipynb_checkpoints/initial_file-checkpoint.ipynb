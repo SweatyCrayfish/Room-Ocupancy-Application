{
 "cells": [
  {
   "cell_type": "markdown",
   "id": "61811ee6-5452-4011-838a-8c35ff1d6e94",
   "metadata": {},
   "source": [
    "Adding the first line of text."
   ]
  },
  {
   "cell_type": "code",
   "execution_count": null,
   "id": "546738b1-88c1-44f4-b8a0-3d860edfd471",
   "metadata": {},
   "outputs": [],
   "source": []
  }
 ],
 "metadata": {
  "kernelspec": {
   "display_name": "Python 3 (ipykernel)",
   "language": "python",
   "name": "python3"
  },
  "language_info": {
   "codemirror_mode": {
    "name": "ipython",
    "version": 3
   },
   "file_extension": ".py",
   "mimetype": "text/x-python",
   "name": "python",
   "nbconvert_exporter": "python",
   "pygments_lexer": "ipython3",
   "version": "3.10.4"
  }
 },
 "nbformat": 4,
 "nbformat_minor": 5
}
