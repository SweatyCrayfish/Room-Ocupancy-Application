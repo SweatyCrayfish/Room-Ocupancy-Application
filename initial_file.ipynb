{
 "cells": [
  {
   "cell_type": "markdown",
   "id": "61811ee6-5452-4011-838a-8c35ff1d6e94",
   "metadata": {},
   "source": [
    "Adding the first line of text."
   ]
  },
  {
   "cell_type": "code",
   "execution_count": 2,
   "id": "546738b1-88c1-44f4-b8a0-3d860edfd471",
   "metadata": {},
   "outputs": [
    {
     "name": "stdout",
     "output_type": "stream",
     "text": [
      "Requirement already satisfied: tabpy in d:\\anaconda3\\lib\\site-packages (2.6.0)\n",
      "Requirement already satisfied: cloudpickle in d:\\anaconda3\\lib\\site-packages (from tabpy) (2.0.0)\n",
      "Requirement already satisfied: coverage in d:\\anaconda3\\lib\\site-packages (from tabpy) (6.5.0)\n",
      "Requirement already satisfied: urllib3 in d:\\anaconda3\\lib\\site-packages (from tabpy) (1.26.12)\n",
      "Requirement already satisfied: twisted in d:\\anaconda3\\lib\\site-packages (from tabpy) (22.2.0)\n",
      "Requirement already satisfied: nltk in d:\\anaconda3\\lib\\site-packages (from tabpy) (3.7)\n",
      "Requirement already satisfied: configparser in d:\\anaconda3\\lib\\site-packages (from tabpy) (5.3.0)\n",
      "Requirement already satisfied: docopt in d:\\anaconda3\\lib\\site-packages (from tabpy) (0.6.2)\n",
      "Requirement already satisfied: textblob in d:\\anaconda3\\lib\\site-packages (from tabpy) (0.17.1)\n",
      "Requirement already satisfied: scipy in d:\\anaconda3\\lib\\site-packages (from tabpy) (1.7.3)\n",
      "Requirement already satisfied: pandas in d:\\anaconda3\\lib\\site-packages (from tabpy) (1.4.2)\n",
      "Requirement already satisfied: numpy in d:\\anaconda3\\lib\\site-packages (from tabpy) (1.21.5)\n",
      "Requirement already satisfied: pytest-cov in d:\\anaconda3\\lib\\site-packages (from tabpy) (4.0.0)\n",
      "Requirement already satisfied: requests in d:\\anaconda3\\lib\\site-packages (from tabpy) (2.28.1)\n",
      "Requirement already satisfied: coveralls in d:\\anaconda3\\lib\\site-packages (from tabpy) (3.3.1)\n",
      "Requirement already satisfied: future in d:\\anaconda3\\lib\\site-packages (from tabpy) (0.18.2)\n",
      "Requirement already satisfied: jsonschema in d:\\anaconda3\\lib\\site-packages (from tabpy) (4.16.0)\n",
      "Requirement already satisfied: genson in d:\\anaconda3\\lib\\site-packages (from tabpy) (1.2.2)\n",
      "Requirement already satisfied: pytest in d:\\anaconda3\\lib\\site-packages (from tabpy) (7.1.1)\n",
      "Requirement already satisfied: simplejson in d:\\anaconda3\\lib\\site-packages (from tabpy) (3.18.3)\n",
      "Requirement already satisfied: tornado in d:\\anaconda3\\lib\\site-packages (from tabpy) (6.1)\n",
      "Requirement already satisfied: scikit-learn in d:\\anaconda3\\lib\\site-packages (from tabpy) (1.0.2)\n",
      "Requirement already satisfied: pyopenssl in d:\\anaconda3\\lib\\site-packages (from tabpy) (21.0.0)\n",
      "Requirement already satisfied: hypothesis in d:\\anaconda3\\lib\\site-packages (from tabpy) (6.68.1)\n",
      "Requirement already satisfied: mock in d:\\anaconda3\\lib\\site-packages (from tabpy) (4.0.3)\n",
      "Requirement already satisfied: charset-normalizer<3,>=2 in d:\\anaconda3\\lib\\site-packages (from requests->tabpy) (2.1.1)\n",
      "Requirement already satisfied: certifi>=2017.4.17 in d:\\anaconda3\\lib\\site-packages (from requests->tabpy) (2022.9.24)\n",
      "Requirement already satisfied: idna<4,>=2.5 in d:\\anaconda3\\lib\\site-packages (from requests->tabpy) (2.10)\n",
      "Requirement already satisfied: sortedcontainers<3.0.0,>=2.1.0 in d:\\anaconda3\\lib\\site-packages (from hypothesis->tabpy) (2.4.0)\n",
      "Requirement already satisfied: attrs>=19.2.0 in d:\\anaconda3\\lib\\site-packages (from hypothesis->tabpy) (22.1.0)\n",
      "Requirement already satisfied: exceptiongroup>=1.0.0 in d:\\anaconda3\\lib\\site-packages (from hypothesis->tabpy) (1.1.0)\n",
      "Requirement already satisfied: pyrsistent!=0.17.0,!=0.17.1,!=0.17.2,>=0.14.0 in d:\\anaconda3\\lib\\site-packages (from jsonschema->tabpy) (0.18.1)\n",
      "Requirement already satisfied: click in d:\\anaconda3\\lib\\site-packages (from nltk->tabpy) (8.1.3)\n",
      "Requirement already satisfied: joblib in d:\\anaconda3\\lib\\site-packages (from nltk->tabpy) (1.1.0)\n",
      "Requirement already satisfied: tqdm in d:\\anaconda3\\lib\\site-packages (from nltk->tabpy) (4.64.0)\n",
      "Requirement already satisfied: regex>=2021.8.3 in d:\\anaconda3\\lib\\site-packages (from nltk->tabpy) (2022.3.15)\n",
      "Requirement already satisfied: pytz>=2020.1 in d:\\anaconda3\\lib\\site-packages (from pandas->tabpy) (2022.5)\n",
      "Requirement already satisfied: python-dateutil>=2.8.1 in d:\\anaconda3\\lib\\site-packages (from pandas->tabpy) (2.8.2)\n",
      "Requirement already satisfied: cryptography>=3.3 in d:\\anaconda3\\lib\\site-packages (from pyopenssl->tabpy) (36.0.2)\n",
      "Requirement already satisfied: six>=1.5.2 in d:\\anaconda3\\lib\\site-packages (from pyopenssl->tabpy) (1.16.0)\n",
      "Requirement already satisfied: iniconfig in d:\\anaconda3\\lib\\site-packages (from pytest->tabpy) (1.1.1)\n",
      "Requirement already satisfied: packaging in d:\\anaconda3\\lib\\site-packages (from pytest->tabpy) (21.3)\n",
      "Requirement already satisfied: pluggy<2.0,>=0.12 in d:\\anaconda3\\lib\\site-packages (from pytest->tabpy) (1.0.0)\n",
      "Requirement already satisfied: py>=1.8.2 in d:\\anaconda3\\lib\\site-packages (from pytest->tabpy) (1.11.0)\n",
      "Requirement already satisfied: tomli>=1.0.0 in d:\\anaconda3\\lib\\site-packages (from pytest->tabpy) (1.2.2)\n",
      "Requirement already satisfied: atomicwrites>=1.0 in d:\\anaconda3\\lib\\site-packages (from pytest->tabpy) (1.4.0)\n",
      "Requirement already satisfied: colorama in d:\\anaconda3\\lib\\site-packages (from pytest->tabpy) (0.4.5)\n",
      "Requirement already satisfied: threadpoolctl>=2.0.0 in d:\\anaconda3\\lib\\site-packages (from scikit-learn->tabpy) (2.2.0)\n",
      "Requirement already satisfied: zope.interface>=4.4.2 in d:\\anaconda3\\lib\\site-packages (from twisted->tabpy) (5.4.0)\n",
      "Requirement already satisfied: typing-extensions>=3.6.5 in d:\\anaconda3\\lib\\site-packages (from twisted->tabpy) (4.4.0)\n",
      "Requirement already satisfied: twisted-iocpsupport<2,>=1.0.2 in d:\\anaconda3\\lib\\site-packages (from twisted->tabpy) (1.0.2)\n",
      "Requirement already satisfied: hyperlink>=17.1.1 in d:\\anaconda3\\lib\\site-packages (from twisted->tabpy) (21.0.0)\n",
      "Requirement already satisfied: Automat>=0.8.0 in d:\\anaconda3\\lib\\site-packages (from twisted->tabpy) (20.2.0)\n",
      "Requirement already satisfied: constantly>=15.1 in d:\\anaconda3\\lib\\site-packages (from twisted->tabpy) (15.1.0)\n",
      "Requirement already satisfied: incremental>=21.3.0 in d:\\anaconda3\\lib\\site-packages (from twisted->tabpy) (21.3.0)\n",
      "Requirement already satisfied: cffi>=1.12 in d:\\anaconda3\\lib\\site-packages (from cryptography>=3.3->pyopenssl->tabpy) (1.15.1)\n",
      "Requirement already satisfied: setuptools in d:\\anaconda3\\lib\\site-packages (from zope.interface>=4.4.2->twisted->tabpy) (61.2.0)\n",
      "Requirement already satisfied: pyparsing!=3.0.5,>=2.0.2 in d:\\anaconda3\\lib\\site-packages (from packaging->pytest->tabpy) (3.0.9)\n",
      "Requirement already satisfied: pycparser in d:\\anaconda3\\lib\\site-packages (from cffi>=1.12->cryptography>=3.3->pyopenssl->tabpy) (2.21)\n",
      "Note: you may need to restart the kernel to use updated packages.\n"
     ]
    },
    {
     "name": "stderr",
     "output_type": "stream",
     "text": [
      "\n",
      "[notice] A new release of pip is available: 23.0 -> 23.0.1\n",
      "[notice] To update, run: python.exe -m pip install --upgrade pip\n"
     ]
    }
   ],
   "source": [
    "pip install tabpy"
   ]
  },
  {
   "cell_type": "code",
   "execution_count": 3,
   "id": "49cb34d2",
   "metadata": {},
   "outputs": [
    {
     "name": "stdout",
     "output_type": "stream",
     "text": [
      "Requirement already satisfied: pip in d:\\anaconda3\\lib\\site-packages (23.0)\n",
      "Collecting pip\n",
      "  Downloading pip-23.0.1-py3-none-any.whl (2.1 MB)\n",
      "     ---------------------------------------- 2.1/2.1 MB 16.4 MB/s eta 0:00:00\n",
      "Installing collected packages: pip\n",
      "  Attempting uninstall: pip\n",
      "Note: you may need to restart the kernel to use updated packages.    Found existing installation: pip 23.0\n",
      "    Uninstalling pip-23.0:\n",
      "      Successfully uninstalled pip-23.0\n",
      "Successfully installed pip-23.0.1\n",
      "\n"
     ]
    }
   ],
   "source": [
    "pip install --upgrade pip"
   ]
  }
 ],
 "metadata": {
  "kernelspec": {
   "display_name": "Python 3 (ipykernel)",
   "language": "python",
   "name": "python3"
  },
  "language_info": {
   "codemirror_mode": {
    "name": "ipython",
    "version": 3
   },
   "file_extension": ".py",
   "mimetype": "text/x-python",
   "name": "python",
   "nbconvert_exporter": "python",
   "pygments_lexer": "ipython3",
   "version": "3.9.12"
  }
 },
 "nbformat": 4,
 "nbformat_minor": 5
}
